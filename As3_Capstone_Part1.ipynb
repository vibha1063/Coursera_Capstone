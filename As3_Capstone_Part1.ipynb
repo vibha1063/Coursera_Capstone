{
 "cells": [
  {
   "cell_type": "code",
   "execution_count": 21,
   "metadata": {
    "collapsed": false,
    "jupyter": {
     "outputs_hidden": false
    }
   },
   "outputs": [
    {
     "name": "stdout",
     "output_type": "stream",
     "text": [
      "Solving environment: done\n",
      "\n",
      "\n",
      "==> WARNING: A newer version of conda exists. <==\n",
      "  current version: 4.5.11\n",
      "  latest version: 4.8.2\n",
      "\n",
      "Please update conda by running\n",
      "\n",
      "    $ conda update -n base -c defaults conda\n",
      "\n",
      "\n",
      "\n",
      "## Package Plan ##\n",
      "\n",
      "  environment location: /home/jupyterlab/conda/envs/python\n",
      "\n",
      "  added / updated specs: \n",
      "    - geopy\n",
      "\n",
      "\n",
      "The following packages will be downloaded:\n",
      "\n",
      "    package                    |            build\n",
      "    ---------------------------|-----------------\n",
      "    certifi-2019.11.28         |           py36_0         149 KB  conda-forge\n",
      "    scikit-learn-0.20.1        |   py36h22eb022_0         5.7 MB\n",
      "    liblapack-3.8.0            |      11_openblas          10 KB  conda-forge\n",
      "    numpy-1.18.1               |   py36h95a1406_0         5.2 MB  conda-forge\n",
      "    liblapacke-3.8.0           |      11_openblas          10 KB  conda-forge\n",
      "    geographiclib-1.50         |             py_0          34 KB  conda-forge\n",
      "    libopenblas-0.3.6          |       h5a2b251_2         7.7 MB\n",
      "    scipy-1.4.1                |   py36h921218d_0        18.9 MB  conda-forge\n",
      "    geopy-1.21.0               |             py_0          58 KB  conda-forge\n",
      "    libcblas-3.8.0             |      11_openblas          10 KB  conda-forge\n",
      "    libblas-3.8.0              |      11_openblas          10 KB  conda-forge\n",
      "    blas-2.11                  |         openblas          10 KB  conda-forge\n",
      "    ------------------------------------------------------------\n",
      "                                           Total:        37.9 MB\n",
      "\n",
      "The following NEW packages will be INSTALLED:\n",
      "\n",
      "    geographiclib: 1.50-py_0                              conda-forge\n",
      "    geopy:         1.21.0-py_0                            conda-forge\n",
      "    libblas:       3.8.0-11_openblas                      conda-forge\n",
      "    libcblas:      3.8.0-11_openblas                      conda-forge\n",
      "    liblapack:     3.8.0-11_openblas                      conda-forge\n",
      "    liblapacke:    3.8.0-11_openblas                      conda-forge\n",
      "    libopenblas:   0.3.6-h5a2b251_2                                  \n",
      "\n",
      "The following packages will be UPDATED:\n",
      "\n",
      "    blas:          1.1-openblas                           conda-forge --> 2.11-openblas         conda-forge\n",
      "    certifi:       2019.9.11-py36_0                       conda-forge --> 2019.11.28-py36_0     conda-forge\n",
      "    numpy:         1.16.2-py36_blas_openblash1522bff_0    conda-forge [blas_openblas] --> 1.18.1-py36h95a1406_0 conda-forge\n",
      "    scipy:         1.2.1-py36_blas_openblash1522bff_0     conda-forge [blas_openblas] --> 1.4.1-py36h921218d_0  conda-forge\n",
      "\n",
      "The following packages will be DOWNGRADED:\n",
      "\n",
      "    scikit-learn:  0.20.1-py36_blas_openblashebff5e3_1200 conda-forge [blas_openblas] --> 0.20.1-py36h22eb022_0            \n",
      "\n",
      "\n",
      "Downloading and Extracting Packages\n",
      "certifi-2019.11.28   | 149 KB    | ##################################### | 100% \n",
      "scikit-learn-0.20.1  | 5.7 MB    | ##################################### | 100% \n",
      "liblapack-3.8.0      | 10 KB     | ##################################### | 100% \n",
      "numpy-1.18.1         | 5.2 MB    | ##################################### | 100% \n",
      "liblapacke-3.8.0     | 10 KB     | ##################################### | 100% \n",
      "geographiclib-1.50   | 34 KB     | ##################################### | 100% \n",
      "libopenblas-0.3.6    | 7.7 MB    | ##################################### | 100% \n",
      "scipy-1.4.1          | 18.9 MB   | ##################################### | 100% \n",
      "geopy-1.21.0         | 58 KB     | ##################################### | 100% \n",
      "libcblas-3.8.0       | 10 KB     | ##################################### | 100% \n",
      "libblas-3.8.0        | 10 KB     | ##################################### | 100% \n",
      "blas-2.11            | 10 KB     | ##################################### | 100% \n",
      "Preparing transaction: done\n",
      "Verifying transaction: done\n",
      "Executing transaction: done\n",
      "Libraries imported.\n"
     ]
    }
   ],
   "source": [
    "import numpy as np # library to handle data in a vectorized manner\n",
    "\n",
    "import pandas as pd # library for data analsysis\n",
    "pd.set_option('display.max_columns', None)\n",
    "pd.set_option('display.max_rows', None)\n",
    "\n",
    "import json # library to handle JSON files\n",
    "\n",
    "!conda install -c conda-forge geopy --yes # uncomment this line if you haven't completed the Foursquare API lab\n",
    "from geopy.geocoders import Nominatim # convert an address into latitude and longitude values\n",
    "\n",
    "import requests # library to handle requests\n",
    "from pandas.io.json import json_normalize # tranform JSON file into a pandas dataframe\n",
    "\n",
    "# Matplotlib and associated plotting modules\n",
    "import matplotlib.cm as cm\n",
    "import matplotlib.colors as colors\n",
    "\n",
    "# import k-means from clustering stage\n",
    "from sklearn.cluster import KMeans\n",
    "\n",
    "#!conda install -c conda-forge folium=0.5.0 --yes # uncomment this line if you haven't completed the Foursquare API lab\n",
    "import folium # map rendering library\n",
    "\n",
    "print('Libraries imported.')"
   ]
  },
  {
   "cell_type": "markdown",
   "metadata": {},
   "source": [
    "Use the Notebook to build the code to scrape the following Wikipedia page, https://en.wikipedia.org/wiki/List_of_postal_codes_of_Canada:_M, in order to obtain the data that is in the table of postal codes and to transform the data into a pandas dataframe like the one shown below:"
   ]
  },
  {
   "cell_type": "code",
   "execution_count": 1,
   "metadata": {
    "collapsed": false,
    "jupyter": {
     "outputs_hidden": false
    },
    "scrolled": true
   },
   "outputs": [
    {
     "name": "stdout",
     "output_type": "stream",
     "text": [
      "    Postcode          Borough       Neighbourhood\n",
      "0        M4S  Central Toronto          Davisville\n",
      "1        M4P  Central Toronto    Davisville North\n",
      "2        M4V  Central Toronto           Deer Park\n",
      "3        M5P  Central Toronto   Forest Hill North\n",
      "4        M4V  Central Toronto      Forest Hill SE\n",
      "..       ...              ...                 ...\n",
      "282      M6M             York        Mount Dennis\n",
      "283      M6N             York           Runnymede\n",
      "284      M6M             York         Silverthorn\n",
      "285      M6N             York  The Junction North\n",
      "286      M9N             York              Weston\n",
      "\n",
      "[287 rows x 3 columns]\n"
     ]
    }
   ],
   "source": [
    "import pandas as pd\n",
    "data = pd.read_csv(r'canada.csv')\n",
    "df = pd.DataFrame(data, columns = ['Postcode','Borough','Neighbourhood'])\n",
    "\n",
    "print (df)"
   ]
  },
  {
   "cell_type": "markdown",
   "metadata": {},
   "source": [
    "### The dataframe will consist of three columns: PostalCode, Borough, and Neighborhood\n",
    "Only process the cells that have an assigned borough. Ignore cells with a borough that is Not assigned.\n",
    "More than one neighborhood can exist in one postal code area. For example, in the table on the Wikipedia page, you will notice that M5A is listed twice and has two neighborhoods: Harbourfront and Regent Park. These two rows will be combined into one row with the neighborhoods separated with a comma as shown in row 11 in the above table."
   ]
  },
  {
   "cell_type": "code",
   "execution_count": 3,
   "metadata": {},
   "outputs": [
    {
     "name": "stdout",
     "output_type": "stream",
     "text": [
      "    Postcode          Borough       Neighbourhood\n",
      "0        M4S  Central Toronto          Davisville\n",
      "1        M4P  Central Toronto    Davisville North\n",
      "2        M4V  Central Toronto           Deer Park\n",
      "3        M5P  Central Toronto   Forest Hill North\n",
      "4        M4V  Central Toronto      Forest Hill SE\n",
      "..       ...              ...                 ...\n",
      "282      M6M             York        Mount Dennis\n",
      "283      M6N             York           Runnymede\n",
      "284      M6M             York         Silverthorn\n",
      "285      M6N             York  The Junction North\n",
      "286      M9N             York              Weston\n",
      "\n",
      "[210 rows x 3 columns]\n"
     ]
    }
   ],
   "source": [
    "searchfor = ['Not assigned']\n",
    "df = df[~df.Borough.str.contains('|'.join(searchfor))]\n",
    "\n",
    "print(df)"
   ]
  },
  {
   "cell_type": "markdown",
   "metadata": {},
   "source": [
    "If a cell has a borough but a Not assigned neighborhood, then the neighborhood will be the same as the borough. So for the 9th cell in the table on the Wikipedia page, the value of the Borough and the Neighborhood columns will be Queen's Park.\n",
    "Clean your Notebook and add Markdown cells to explain your work and any assumptions you are making.\n",
    "In the last cell of your notebook, use the .shape method to print the number of rows of your dataframe."
   ]
  },
  {
   "cell_type": "code",
   "execution_count": 29,
   "metadata": {},
   "outputs": [
    {
     "name": "stdout",
     "output_type": "stream",
     "text": [
      "    Postcode       Borough             Neighbourhood\n",
      "227      M9A  Queen's Park              Queen's Park\n",
      "228      M1S   Scarborough                 Agincourt\n",
      "229      M1V   Scarborough           Agincourt North\n",
      "230      M1N   Scarborough               Birch Cliff\n",
      "231      M1H   Scarborough                 Cedarbrae\n",
      "232      M1L   Scarborough                  Clairlea\n",
      "233      M1T   Scarborough            Clarks Corners\n",
      "234      M1M   Scarborough                Cliffcrest\n",
      "235      M1M   Scarborough                 Cliffside\n",
      "236      M1N   Scarborough            Cliffside West\n",
      "237      M1P   Scarborough               Dorset Park\n",
      "238      M1K   Scarborough      East Birchmount Park\n",
      "239      M1L   Scarborough               Golden Mile\n",
      "240      M1E   Scarborough                 Guildwood\n",
      "241      M1C   Scarborough            Highland Creek\n",
      "242      M1K   Scarborough                   Ionview\n",
      "243      M1K   Scarborough              Kennedy Park\n",
      "244      M1V   Scarborough           L'Amoreaux East\n",
      "245      M1W   Scarborough           L'Amoreaux West\n",
      "246      M1B   Scarborough                   Malvern\n",
      "247      M1R   Scarborough                  Maryvale\n",
      "248      M1V   Scarborough                  Milliken\n",
      "249      M1E   Scarborough               Morningside\n",
      "250      M1L   Scarborough                  Oakridge\n",
      "251      M1C   Scarborough                Port Union\n",
      "252      M1B   Scarborough                     Rouge\n",
      "253      M1C   Scarborough                Rouge Hill\n",
      "254      M1P   Scarborough   Scarborough Town Centre\n",
      "255      M1J   Scarborough       Scarborough Village\n",
      "256      M1M   Scarborough  Scarborough Village West\n",
      "257      M1V   Scarborough              Steeles East\n",
      "258      M1T   Scarborough                  Sullivan\n",
      "259      M1T   Scarborough             Tam O'Shanter\n",
      "260      M1X   Scarborough               Upper Rouge\n",
      "261      M1E   Scarborough                 West Hill\n",
      "262      M1R   Scarborough                   Wexford\n",
      "263      M1P   Scarborough           Wexford Heights\n",
      "264      M1G   Scarborough                    Woburn\n",
      "265      M6K  West Toronto                  Brockton\n",
      "266      M6H  West Toronto        Dovercourt Village\n",
      "267      M6H  West Toronto                  Dufferin\n",
      "268      M6K  West Toronto          Exhibition Place\n",
      "269      M6P  West Toronto                 High Park\n",
      "270      M6J  West Toronto           Little Portugal\n",
      "271      M6R  West Toronto                  Parkdale\n",
      "272      M6K  West Toronto          Parkdale Village\n",
      "273      M6R  West Toronto              Roncesvalles\n",
      "274      M6S  West Toronto                 Runnymede\n",
      "275      M6S  West Toronto                   Swansea\n",
      "276      M6P  West Toronto        The Junction South\n",
      "277      M6J  West Toronto                   Trinity\n",
      "278      M6E          York       Caledonia-Fairbanks\n",
      "279      M6M          York                   Del Ray\n",
      "280      M6C          York        Humewood-Cedarvale\n",
      "281      M6M          York                Keelesdale\n",
      "282      M6M          York              Mount Dennis\n",
      "283      M6N          York                 Runnymede\n",
      "284      M6M          York               Silverthorn\n",
      "285      M6N          York        The Junction North\n",
      "286      M9N          York                    Weston\n"
     ]
    }
   ],
   "source": [
    "NBH = list(map(str, df.Neighbourhood.tolist()))\n",
    "BOR = list(map(str, df.Borough.tolist()))\n",
    "df['Neighbourhood'] = df.Neighbourhood.replace(to_replace=['Not assigned'], value=[BOR])\n",
    "\n",
    "print(df.tail(60))"
   ]
  },
  {
   "cell_type": "code",
   "execution_count": 34,
   "metadata": {},
   "outputs": [
    {
     "data": {
      "text/plain": [
       "(210, 3)"
      ]
     },
     "execution_count": 34,
     "metadata": {},
     "output_type": "execute_result"
    }
   ],
   "source": [
    "df.shape #use the .shape method to print the number of rows of your dataframe."
   ]
  }
 ],
 "metadata": {
  "kernelspec": {
   "display_name": "Python",
   "language": "python",
   "name": "conda-env-python-py"
  },
  "language_info": {
   "codemirror_mode": {
    "name": "ipython",
    "version": 3
   },
   "file_extension": ".py",
   "mimetype": "text/x-python",
   "name": "python",
   "nbconvert_exporter": "python",
   "pygments_lexer": "ipython3",
   "version": "3.6.7"
  },
  "widgets": {
   "state": {},
   "version": "1.1.2"
  }
 },
 "nbformat": 4,
 "nbformat_minor": 4
}
